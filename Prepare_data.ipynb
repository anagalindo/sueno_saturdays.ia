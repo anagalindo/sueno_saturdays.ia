{
 "cells": [
  {
   "cell_type": "code",
   "execution_count": 1,
   "id": "c7bb4975",
   "metadata": {},
   "outputs": [],
   "source": [
    "import pandas as pd\n",
    "import statistics"
   ]
  },
  {
   "cell_type": "code",
   "execution_count": 2,
   "id": "facd7763",
   "metadata": {},
   "outputs": [
    {
     "name": "stdout",
     "output_type": "stream",
     "text": [
      "Demographic: \n",
      "(1518, 50)\n"
     ]
    }
   ],
   "source": [
    "# Datos demográficos\n",
    "demog_df=pd.read_csv('1c_COVID19_demographics_cleaned_deid.csv')\n",
    "\n",
    "print ('Demographic: ')\n",
    "print(demog_df.shape)"
   ]
  },
  {
   "cell_type": "code",
   "execution_count": 3,
   "id": "a22e2136",
   "metadata": {},
   "outputs": [
    {
     "name": "stdout",
     "output_type": "stream",
     "text": [
      "PSQI data\n",
      "(839, 263)\n"
     ]
    }
   ],
   "source": [
    "# Datos sueño\n",
    "psqi_df=pd.read_csv('2b_COVID19_Round1_cleaned_deid_2020-12-10_15_24.csv')\n",
    "\n",
    "print ('PSQI data')\n",
    "print (psqi_df.shape)"
   ]
  },
  {
   "cell_type": "code",
   "execution_count": 4,
   "id": "f4a9ab34",
   "metadata": {},
   "outputs": [
    {
     "name": "stdout",
     "output_type": "stream",
     "text": [
      "Merged data\n",
      "(839, 311)\n"
     ]
    }
   ],
   "source": [
    "# Merge data\n",
    "merged_df=psqi_df.merge(demog_df, how='inner', on='sub_id')\n",
    "\n",
    "# Quitar missing values (cuando todos los valores son NaN)\n",
    "merged_df.dropna(axis='columns',how='all',inplace=True)\n",
    "\n",
    "print ('Merged data')\n",
    "print (merged_df.shape)"
   ]
  },
  {
   "cell_type": "code",
   "execution_count": 5,
   "id": "72fc8e77",
   "metadata": {},
   "outputs": [],
   "source": [
    "# Remplazar missing values por valores específicos - Demographic variables\n",
    "\n",
    "merged_df.preferred_gender = merged_df.preferred_gender.fillna(5)\n",
    "merged_df.transgender2 = merged_df.transgender2.fillna(3)\n",
    "merged_df.sexual_orientation = merged_df.sexual_orientation.fillna(5)\n",
    "merged_df.dependent_children=merged_df.dependent_children.fillna(0)\n",
    "\n",
    "merged_df['psqi_2_mean']= merged_df.groupby('age1')['psqi_2'].transform('mean')\n",
    "merged_df['psqi_4_mean']=merged_df.groupby('age1')['psqi_4'].transform('mean')\n",
    "merged_df['psqi_2'].fillna(merged_df['psqi_2_mean'], inplace=True)\n",
    "merged_df['psqi_4'].fillna(merged_df['psqi_4_mean'], inplace=True)\n"
   ]
  },
  {
   "cell_type": "code",
   "execution_count": 6,
   "id": "bcef8bbe",
   "metadata": {},
   "outputs": [],
   "source": [
    "#Drop variables\n",
    "vars_to_drop=list(merged_df.filter(regex=r'(PSQI|CERQ|LSAS|Big|mtq)')) \n",
    "unwanted=['psqi_2_mean','psqi_4_mean','race_description','year_study','state','gad_7_total',\n",
    "              'round_1_timestamp','country','time_zone','gender_description','so_description','psqi_2NEW',\n",
    "              'round_1_complete','record_id_x','record_id_y','date_time','date_time_rd1']\n",
    "for ele in unwanted:\n",
    "    vars_to_drop.append(ele)\n",
    "    \n",
    "wanted=['PSQI_TOTAL','mtq_precovid_workdays','mtq_precovid_workday_sleeponset',\n",
    "      'mtq_precovid_workday_sleepend','mtq_precovid_freeday_sleeponset',\n",
    "      'mtq_precovid_freeday_sleepend','mtq_postcovid_workdays',\n",
    "      'mtq_postcovid_workday_sleeponset','mtq_postcovid_workday_sleepend',\n",
    "      'mtq_postcovid_freeday_sleeponset','mtq_postcovid_freeday_sleepend']\n",
    "for ele in wanted:\n",
    "    vars_to_drop.remove(ele)\n",
    "\n",
    "for ele in vars_to_drop:\n",
    "    merged_df.drop(columns=ele,inplace=True)"
   ]
  },
  {
   "cell_type": "code",
   "execution_count": 7,
   "id": "ae455a6c",
   "metadata": {},
   "outputs": [],
   "source": [
    "# Remplazar missing values (NaN) con la moda - Variables del sueño\n",
    "vars_to_keep=list(merged_df.filter(regex=r'(psqi|gad|GAD|cerq|fear|avoid|big|employed|working_home|employment_covid)')) \n",
    "unwanted=['psqi_1','psqi_2','psqi_3','psqi_4']\n",
    "mtq_wanted=wanted\n",
    "wanted=['PSQI_TOTAL','mtq_precovid_workdays','mtq_postcovid_workdays']\n",
    "\n",
    "for ele in unwanted:\n",
    "    vars_to_keep.remove(ele)\n",
    "    if ele=='psqi_1' or ele=='psqi_3':\n",
    "        mtq_wanted.append(ele)\n",
    "\n",
    "for ele in wanted:\n",
    "    vars_to_keep.append(ele)\n",
    "    mtq_wanted.remove(ele)\n",
    "\n",
    "for var_name in vars_to_keep:\n",
    "    #calculate_mode(var_name)\n",
    "    merged_df[var_name+'_mode']=merged_df[var_name].mode()\n",
    "    merged_df[var_name].fillna(merged_df[var_name+'_mode'][0], inplace=True)\n",
    "    merged_df.drop(columns=var_name+'_mode',inplace=True)\n",
    "\n",
    "# Cambiar formato de horas a minutos en variables temporales\n",
    "for ele in mtq_wanted:\n",
    "    merged_df[ele] = merged_df[ele].fillna(statistics.mode(merged_df[ele]))\n",
    "    merged_df[ele] = merged_df[ele].apply(lambda x: (int(str(x)[0:2])*60) + int(str(x)[3:5]))\n",
    "\n",
    "# Crear nuevas variables\n",
    "merged_df['mtq_dif_workday_sleeponset'] = merged_df['mtq_precovid_workday_sleeponset'] - merged_df['mtq_postcovid_workday_sleeponset']\n",
    "merged_df['mtq_dif_workday_sleepend'] = merged_df['mtq_precovid_workday_sleepend'] - merged_df['mtq_postcovid_workday_sleepend']\n",
    "merged_df['mtq_dif_freeday_sleeponset'] = merged_df['mtq_precovid_freeday_sleeponset'] - merged_df['mtq_postcovid_freeday_sleeponset']\n",
    "merged_df['mtq_dif_freeday_sleepend'] = merged_df['mtq_precovid_freeday_sleepend'] - merged_df['mtq_postcovid_freeday_sleepend']\n"
   ]
  },
  {
   "cell_type": "code",
   "execution_count": 8,
   "id": "7bfdb0dd",
   "metadata": {},
   "outputs": [
    {
     "name": "stdout",
     "output_type": "stream",
     "text": [
      "(839, 225)\n"
     ]
    }
   ],
   "source": [
    "# Evaluar si ya no hay missing values\n",
    "columns = merged_df.columns\n",
    "n_values = [merged_df[a].unique() for a in merged_df.columns]\n",
    "cuenta = pd.DataFrame()\n",
    "cuenta['features'] = columns\n",
    "cuenta['n_values'] = n_values\n",
    "\n",
    "missing_values=merged_df.columns[merged_df.isnull().any()]\n",
    "print (merged_df.shape)"
   ]
  },
  {
   "cell_type": "code",
   "execution_count": 9,
   "id": "5a45dc4d",
   "metadata": {},
   "outputs": [],
   "source": [
    "#One hot encoding (aunque en realidad ya no hay variables categóricas, solo para estar seguras)\n",
    "merged_df=pd.get_dummies(merged_df, drop_first=True) "
   ]
  },
  {
   "cell_type": "code",
   "execution_count": 10,
   "id": "7f254696",
   "metadata": {},
   "outputs": [],
   "source": [
    "# Guardar dataset limpio en formato csv\n",
    "merged_df.to_csv('data_no_missing_values.csv', index=False)"
   ]
  }
 ],
 "metadata": {
  "kernelspec": {
   "display_name": "Python 3 (ipykernel)",
   "language": "python",
   "name": "python3"
  },
  "language_info": {
   "codemirror_mode": {
    "name": "ipython",
    "version": 3
   },
   "file_extension": ".py",
   "mimetype": "text/x-python",
   "name": "python",
   "nbconvert_exporter": "python",
   "pygments_lexer": "ipython3",
   "version": "3.8.8"
  }
 },
 "nbformat": 4,
 "nbformat_minor": 5
}
